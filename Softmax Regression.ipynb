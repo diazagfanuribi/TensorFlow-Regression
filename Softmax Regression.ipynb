{
 "cells": [
  {
   "cell_type": "code",
   "execution_count": 3,
   "metadata": {},
   "outputs": [],
   "source": [
    "import numpy as np \n",
    "import matplotlib.pyplot as plt "
   ]
  },
  {
   "cell_type": "code",
   "execution_count": 4,
   "metadata": {},
   "outputs": [
    {
     "data": {
      "image/png": "[encoded data removed]",
      "text/plain": [
       "<Figure size 432x288 with 1 Axes>"
      ]
     },
     "metadata": {},
     "output_type": "display_data"
    }
   ],
   "source": [
    "x1_label0 = np.random.normal(1, 1, (100, 1)) \n",
    "x2_label0 = np.random.normal(1, 1, (100, 1)) \n",
    "x1_label1 = np.random.normal(5, 1, (100, 1)) \n",
    "x2_label1 = np.random.normal(4, 1, (100, 1)) \n",
    "x1_label2 = np.random.normal(8, 1, (100, 1)) \n",
    "x2_label2 = np.random.normal(0, 1, (100, 1)) \n",
    "\n",
    "plt.scatter(x1_label0, x2_label0, c='r', marker='o', s=60) \n",
    "plt.scatter(x1_label1, x2_label1, c='g', marker='x', s=60) \n",
    "plt.scatter(x1_label2, x2_label2, c='b', marker='_', s=60) \n",
    "plt.show()"
   ]
  },
  {
   "cell_type": "code",
   "execution_count": 5,
   "metadata": {},
   "outputs": [],
   "source": [
    "xs_label0 = np.hstack((x1_label0, x2_label0)) \n",
    "xs_label1 = np.hstack((x1_label1, x2_label1)) \n",
    "xs_label2 = np.hstack((x1_label2, x2_label2)) \n",
    "xs = np.vstack((xs_label0, xs_label1, xs_label2))"
   ]
  },
  {
   "cell_type": "code",
   "execution_count": 6,
   "metadata": {},
   "outputs": [],
   "source": [
    "labels = np.matrix([[1., 0., 0.]] * len(x1_label0) + [[0., 1., 0.]] * \n",
    "len(x1_label1) + [[0., 0., 1.]] * len(x1_label2)) \n",
    "\n",
    "arr = np.arange(xs.shape[0]) \n",
    "np.random.shuffle(arr) \n",
    "xs = xs[arr, :] \n",
    "labels = labels[arr, :] \n",
    "\n",
    "test_x1_label0 = np.random.normal(1, 1, (10, 1)) \n",
    "test_x2_label0 = np.random.normal(1, 1, (10, 1)) \n",
    "test_x1_label1 = np.random.normal(5, 1, (10, 1)) \n",
    "test_x2_label1 = np.random.normal(4, 1, (10, 1)) \n",
    "test_x1_label2 = np.random.normal(8, 1, (10, 1)) \n",
    "test_x2_label2 = np.random.normal(0, 1, (10, 1)) \n",
    "test_xs_label0 = np.hstack((test_x1_label0, test_x2_label0)) \n",
    "test_xs_label1 = np.hstack((test_x1_label1, test_x2_label1)) \n",
    "test_xs_label2 = np.hstack((test_x1_label2, test_x2_label2)) \n",
    "test_xs = np.vstack((test_xs_label0, test_xs_label1, test_xs_label2)) \n",
    "\n",
    "test_labels = np.matrix([[1., 0., 0.]] * 10 + [[0., 1., 0.]] * 10 + [[0., 0., 1.]] * 10) \n",
    "train_size, num_features = xs.shape"
   ]
  },
  {
   "cell_type": "code",
   "execution_count": 7,
   "metadata": {},
   "outputs": [],
   "source": [
    "import tensorflow as tf\n",
    "\n",
    "learning_rate = 0.01 \n",
    "training_epochs = 1000 \n",
    "num_labels = 3 \n",
    "batch_size = 100 \n",
    "\n",
    "X = tf.placeholder(\"float\", shape=[None, num_features]) \n",
    "Y = tf.placeholder(\"float\", shape=[None, num_labels]) \n",
    "W = tf.Variable(tf.zeros([num_features, num_labels])) \n",
    "b = tf.Variable(tf.zeros([num_labels])) \n",
    "y_model = tf.nn.softmax(tf.matmul(X, W) + b) \n",
    "cost = -tf.reduce_sum(Y * tf.log(y_model)) \n",
    "train_op = tf.train.GradientDescentOptimizer(learning_rate).minimize(cost) \n",
    "correct_prediction = tf.equal(tf.argmax(y_model, 1), tf.argmax(Y, 1)) \n",
    "accuracy = tf.reduce_mean(tf.cast(correct_prediction, \"float\"))"
   ]
  },
  {
   "cell_type": "code",
   "execution_count": 18,
   "metadata": {},
   "outputs": [
    {
     "name": "stdout",
     "output_type": "stream",
     "text": [
      "w [[-2.10997     0.25980452  1.8501681 ]\n",
      " [-0.80521154  1.878801   -1.07359   ]]\n",
      "b [10.668396  -3.1089945 -7.559408 ]\n",
      "accuracy 1.0\n"
     ]
    }
   ],
   "source": [
    "with tf.Session() as sess: \n",
    "    tf.global_variables_initializer().run() \n",
    "    for step in range(training_epochs * train_size // batch_size): \n",
    "        offset = (step * batch_size) % train_size \n",
    "        batch_xs = xs[offset:(offset + batch_size), :] \n",
    "        batch_labels = labels[offset:(offset + batch_size)] \n",
    "        err, _ = sess.run([cost, train_op], feed_dict={X: batch_xs, Y: batch_labels}) \n",
    "#         print (step, err)\n",
    "    W_val = sess.run(W) \n",
    "    print('w', W_val) \n",
    "    b_val = sess.run(b) \n",
    "    print('b', b_val) \n",
    "    print(\"accuracy\", accuracy.eval(feed_dict={X: test_xs, Y: test_labels}))\n"
   ]
  },
  {
   "cell_type": "markdown",
   "metadata": {},
   "source": [
    "### Visualisasi"
   ]
  },
  {
   "cell_type": "code",
   "execution_count": null,
   "metadata": {},
   "outputs": [],
   "source": []
  }
 ],
 "metadata": {
  "kernelspec": {
   "display_name": "Python 3",
   "language": "python",
   "name": "python3"
  },
  "language_info": {
   "codemirror_mode": {
    "name": "ipython",
    "version": 3
   },
   "file_extension": ".py",
   "mimetype": "text/x-python",
   "name": "python",
   "nbconvert_exporter": "python",
   "pygments_lexer": "ipython3",
   "version": "3.6.4"
  }
 },
 "nbformat": 4,
 "nbformat_minor": 2
}
